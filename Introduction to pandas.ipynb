{
 "cells": [
  {
   "cell_type": "markdown",
   "metadata": {},
   "source": [
    "# Introduction to pandas part 1"
   ]
  },
  {
   "cell_type": "code",
   "execution_count": 1,
   "metadata": {},
   "outputs": [],
   "source": [
    "#we uses numpy to handling the flow of data but numpy has some limitations and for that we go for some further steps\n",
    "#and that step is pandas which is numpy type library but with some additional features like, when we create an array using \n",
    "#the pandas than we store multiple type of data on any column of the array,\n",
    "#you can use rows labels and column heading in pandas\n",
    "#pandas is initialize to handle large amount of data set, pandas is basically design on numpy\n",
    "#as a data scientist, we need to merge the multidimentional data for our AI projects\n",
    "#important role of dat Scientist, we need to collect data, organize it and filtered it out by multiple ways\n",
    "#we also making sure that, if there is something missing in our data than we should filled that placed and it sonthing is extra\n",
    "#than we should remove that thing"
   ]
  },
  {
   "cell_type": "markdown",
   "metadata": {},
   "source": [
    "# Introduction to pandas part 2"
   ]
  },
  {
   "cell_type": "code",
   "execution_count": 2,
   "metadata": {},
   "outputs": [],
   "source": [
    "#we should manage our data by NxN that makes our data usefull for machine learning projects, and process it properly\n",
    "#we should pandas library to plot different types of mathematicals graphs and other matrices operations\n",
    "#machine learning (classical form) and deep learning (modern form)\n",
    "#the project in machine learning is from collecting the data to predicting output from data\n",
    "#for prediction and clustering purposes, we use multidimentional data handling package/tool which is pandas\n",
    "#Common Action Over data:\n",
    "# 1) Collecting and Storing \n",
    "# 2) Filtering sampling\n",
    "# 3) filling and removing duplicates\n",
    "# 4) merging and splitting"
   ]
  },
  {
   "cell_type": "code",
   "execution_count": 3,
   "metadata": {},
   "outputs": [],
   "source": [
    "#Data Processing pipilines:\n",
    "# A typical Example:\n",
    "# Collecting >> Filling missing >> Removing unnecessary data >> Adding new data >> data spliting >> Feeding to Machine Learning\n",
    "# this is all what you called the complete process of data processing to train ML project"
   ]
  },
  {
   "cell_type": "markdown",
   "metadata": {},
   "source": [
    "# Introduction to pandas part 3 "
   ]
  },
  {
   "cell_type": "code",
   "execution_count": 4,
   "metadata": {},
   "outputs": [],
   "source": [
    "# we use pandas library objects to store the multidimentional data of anything we filtered out to train our ML project\n",
    "# we can use multiple rows and column to store data and with the differ of name and proper/seperate ID's\n",
    "# we also learn object handling using pandas, to manage and merge data (n-dimentional data)\n",
    "# data can be collect by crawling and scraping process (beautiful soap, scrapy are the tools that help us to crawling and \n",
    "# scraping data from any website of somewhere we want)\n",
    "# data can be download in the form of CSV files, we can load it on python list as well as numpy but the most efficient and more\n",
    "# facilitator is pandas (pandas > numpy > python list)"
   ]
  },
  {
   "cell_type": "markdown",
   "metadata": {},
   "source": [
    "# Introduction to pandas part 4"
   ]
  },
  {
   "cell_type": "code",
   "execution_count": 5,
   "metadata": {},
   "outputs": [],
   "source": [
    "# regration is by targetting any sort of input data you set the trend of output with some specific formula\n",
    "# we downloaded data by any built-in tool of pandas or we download the data manually by copy data and paste it to any excel or\n",
    "# google sheet file and than load that data into pandas(pandas is like the natural process for managing and merging data)\n",
    "# because pandas gives us an oppertunity to set the heading of every different coulmn and label of every row we decide."
   ]
  },
  {
   "cell_type": "markdown",
   "metadata": {},
   "source": [
    "# Introduction to pandas part 5"
   ]
  },
  {
   "cell_type": "code",
   "execution_count": 6,
   "metadata": {},
   "outputs": [],
   "source": [
    "# our required data can be text(sometimes it's like natural choice) or unstructured text data\n",
    "# firstly we do data pre-processing (because processing of data is performed on ML feeding functionaliities)\n",
    "# testing training validation & prediction are the ML feeding functionalities\n",
    "# Data can be of different types:\n",
    "# 1) Textual Data (reviews, comment, post, news etc)\n",
    "# 2) Numerical Data (Labour force, litracy rate, economics indicators etc)\n",
    "# 3) Pictures\n",
    "# 4) Videos\n",
    "# 5) Time Series (Daily temperature of 5 years)\n",
    "# 6) Other Patterns"
   ]
  },
  {
   "cell_type": "markdown",
   "metadata": {},
   "source": [
    "# Introduction to pandas part 6"
   ]
  },
  {
   "cell_type": "code",
   "execution_count": 7,
   "metadata": {},
   "outputs": [],
   "source": [
    "# we uses mostly two types of data:\n",
    "# 1) Time Series (time bound data)\n",
    "# 2) Numerical Data\n",
    "\n",
    "# you can rearrange the numerical data, but you can't rearrange time series data (like, change R1 to R2 or C1 to C2)\n",
    "# their can be the data of sound as well, to create the table of data(different types of symbols and signals waves)"
   ]
  },
  {
   "cell_type": "markdown",
   "metadata": {},
   "source": [
    "# Introduction to pandas part 7"
   ]
  },
  {
   "cell_type": "code",
   "execution_count": 9,
   "metadata": {},
   "outputs": [],
   "source": [
    "# we used pandas to manipulate data, for useful purposes and we take raw data and make it helpful\n",
    "# use of raw data to build your AI project and than train your project with the same data after maange it with pandas\n",
    "# pandas is like a magical tool which tool which help us to manage any dimentional raw data by some functionalities"
   ]
  },
  {
   "cell_type": "markdown",
   "metadata": {},
   "source": [
    "# Introduction to pandas part 8"
   ]
  },
  {
   "cell_type": "code",
   "execution_count": null,
   "metadata": {},
   "outputs": [],
   "source": [
    "# this video is the sum up of all the videos:\n",
    "# as to use the data, we have to first download, crawl or scrapt data from any website or anywhere\n",
    "# and to store that data, we have to be a tool object to store that data which is pandas library"
   ]
  }
 ],
 "metadata": {
  "kernelspec": {
   "display_name": "Python 3",
   "language": "python",
   "name": "python3"
  },
  "language_info": {
   "codemirror_mode": {
    "name": "ipython",
    "version": 3
   },
   "file_extension": ".py",
   "mimetype": "text/x-python",
   "name": "python",
   "nbconvert_exporter": "python",
   "pygments_lexer": "ipython3",
   "version": "3.7.3"
  }
 },
 "nbformat": 4,
 "nbformat_minor": 2
}
