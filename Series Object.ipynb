{
 "cells": [
  {
   "cell_type": "code",
   "execution_count": 33,
   "metadata": {},
   "outputs": [],
   "source": [
    "#Make sure to re-run this block to access all pandas attributes\n",
    "import pandas as pd\n",
    "import numpy as np"
   ]
  },
  {
   "cell_type": "markdown",
   "metadata": {},
   "source": [
    "# Series Object Part 1"
   ]
  },
  {
   "cell_type": "code",
   "execution_count": 2,
   "metadata": {},
   "outputs": [
    {
     "name": "stdout",
     "output_type": "stream",
     "text": [
      "0    1\n",
      "1    4\n",
      "2    6\n",
      "3    9\n",
      "dtype: int64\n"
     ]
    }
   ],
   "source": [
    "#by using pandas, we can pre-process and manage data properly and filter as well\n",
    "#this is section 5.1 from the book\n",
    "\n",
    "series = pd.Series([1,4,6,9]) #values passing by python list in 1D array\n",
    "print(series)   #Series() is the built-in function in pandas to create data table\n",
    "#you can directly acces both values and index by using pandas"
   ]
  },
  {
   "cell_type": "markdown",
   "metadata": {},
   "source": [
    "# Series Object Part 2"
   ]
  },
  {
   "cell_type": "code",
   "execution_count": 17,
   "metadata": {},
   "outputs": [
    {
     "name": "stdout",
     "output_type": "stream",
     "text": [
      "Indexes of Sales:RangeIndex(start=0, stop=4, step=1)\n",
      "Values of Sales:[100 300 500 700]\n",
      "\n",
      "\n",
      "Name\t\tSalary\n",
      "Waleed          10000\n",
      "Daniyal         32000\n",
      "Abu Bakar       34000\n",
      "Huzaifa Khan    50000\n",
      "dtype: int64\n"
     ]
    }
   ],
   "source": [
    "#Series_name.values, gives you the values of your pandas series\n",
    "sales = pd.Series([100,300,500,700])\n",
    "print(\"Indexes of Sales:{}\".format(sales.index)) #sales.index gives you that range(start value, ending value and step value)\n",
    "print(\"Values of Sales:{}\".format(sales.values))\n",
    "\n",
    "#we can set index non-numeric, new thing that in pandas\n",
    "salaries = pd.Series([10000, 32000, 34000, 50000], index = ['Waleed', 'Daniyal', 'Abu Bakar', 'Huzaifa Khan'])\n",
    "print(\"\\n\")\n",
    "print(\"Name\\t\\tSalary\")\n",
    "print(salaries)"
   ]
  },
  {
   "cell_type": "code",
   "execution_count": 14,
   "metadata": {},
   "outputs": [
    {
     "name": "stdout",
     "output_type": "stream",
     "text": [
      "Name\t     Salary\n",
      "DuckyBhai    5$-17$\n",
      "Raza Samo    6$-26$\n",
      "dtype: object\n"
     ]
    }
   ],
   "source": [
    "#you can select any value as a index to access the value\n",
    "\n",
    "youtuber = pd.Series(['5$-17$', '6$-26$'], index = ['DuckyBhai', 'Raza Samo'])\n",
    "print(\"Name\\t     Salary\")\n",
    "print(youtuber)"
   ]
  },
  {
   "cell_type": "markdown",
   "metadata": {},
   "source": [
    "# Series Object Part 3"
   ]
  },
  {
   "cell_type": "code",
   "execution_count": 22,
   "metadata": {},
   "outputs": [
    {
     "name": "stdout",
     "output_type": "stream",
     "text": [
      "For only Values:\n",
      "['5$-17$' '6$-26$']\n",
      "Index Info:\n",
      "Index(['DuckyBhai', 'Raza Samo'], dtype='object')\n",
      "\n",
      "\n",
      "Whole Detail About Our Object:\n",
      "DuckyBhai    5$-17$\n",
      "Raza Samo    6$-26$\n",
      "Name: Two Youtuber Average Salaries, dtype: object\n"
     ]
    }
   ],
   "source": [
    "youtuber = pd.Series(['5$-17$', '6$-26$'], index = ['DuckyBhai', 'Raza Samo'], name = 'Two Youtuber Average Salaries')\n",
    "print(\"For only Values:\")  #if compilar can't understand the type of any attribute than, it decleared it object\n",
    "print(youtuber.values)    #object can store any type of data\n",
    "print(\"Index Info:\")\n",
    "print(youtuber.index)\n",
    "print(\"\\n\")\n",
    "print(\"Whole Detail About Our Object:\")\n",
    "print(youtuber)"
   ]
  },
  {
   "cell_type": "markdown",
   "metadata": {},
   "source": [
    "# Series Object Part 4 & 5"
   ]
  },
  {
   "cell_type": "code",
   "execution_count": 8,
   "metadata": {},
   "outputs": [
    {
     "name": "stdout",
     "output_type": "stream",
     "text": [
      "Monday       100 Sandwiches\n",
      "Tuesday      110 Sandwiches\n",
      "Wednesday    120 Sandwiches\n",
      "Thursday      90 Sandwiches\n",
      "Friday       130 Sandwiches\n",
      "Saturday      80 Sandwiches\n",
      "Sunday       135 Sandwiches\n",
      "Name: 7 Days Record of Selling Sandwiches at Khans Bakery, dtype: object\n"
     ]
    }
   ],
   "source": [
    "#if you don't give index to your series than pandas will automatically gives index starting from 0\n",
    "# in video 4, teacher explain the question and video 2, teacher code that task\n",
    "canteen = pd.Series(['100 Sandwiches', '110 Sandwiches', '120 Sandwiches', '90 Sandwiches', '130 Sandwiches', '80 Sandwiches',\n",
    "                    '135 Sandwiches'], index = ['Monday', 'Tuesday', 'Wednesday', 'Thursday', 'Friday', 'Saturday', 'Sunday'],\n",
    "                    name = '7 Days Record of Selling Sandwiches at Khans Bakery')\n",
    "\n",
    "print(canteen)"
   ]
  },
  {
   "cell_type": "markdown",
   "metadata": {},
   "source": [
    "# Series Object Part 6"
   ]
  },
  {
   "cell_type": "code",
   "execution_count": 11,
   "metadata": {},
   "outputs": [],
   "source": [
    "canteen_two = pd.Series(['100 Burgers', '110 Burgers', '120 Burgers', '90 Burgers', '130 Burgers','80 Burgers','135 Burgers'],\n",
    "                        index = ['Monday', 'Tuesday', 'Wednesday', 'Thursday', 'Friday', 'Saturday', 'Sunday'],\n",
    "                    name = '7 Days Record of Selling Burgers at Khans Bakery')"
   ]
  },
  {
   "cell_type": "code",
   "execution_count": 12,
   "metadata": {},
   "outputs": [
    {
     "name": "stdout",
     "output_type": "stream",
     "text": [
      "120 Burgers\n",
      "120 Burgers\n",
      "Tuesday    110 Burgers\n",
      "Friday     130 Burgers\n",
      "Name: 7 Days Record of Selling Burgers at Khans Bakery, dtype: object\n",
      "Monday      100 Burgers\n",
      "Saturday     80 Burgers\n",
      "Name: 7 Days Record of Selling Burgers at Khans Bakery, dtype: object\n"
     ]
    }
   ],
   "source": [
    "print(canteen_two[2])  #same indexing process like list or numpy arrays\n",
    "#but for pandas, me can access values by index attributes\n",
    "print(canteen_two['Wednesday'])\n",
    "#we can also access multiple values using index,\n",
    "#for providing multiple index for selecting element in an pd series, use array notation\n",
    "print(canteen_two[[1,4]])\n",
    "#by pandas indexing attrributes,\n",
    "print(canteen_two[['Monday','Saturday']])"
   ]
  },
  {
   "cell_type": "code",
   "execution_count": 13,
   "metadata": {},
   "outputs": [
    {
     "name": "stdout",
     "output_type": "stream",
     "text": [
      "Thursday    40\n",
      "Friday      50\n",
      "Saturday    60\n",
      "Sunday      70\n",
      "Name: 7 Days Record of Selling Pizzas at Khans Bakery, dtype: int64\n"
     ]
    }
   ],
   "source": [
    "canteen_three = pd.Series([10, 20, 30, 40, 50, 60, 70], \n",
    "                          index=['Monday', 'Tuesday', 'Wednesday', 'Thursday', 'Friday', 'Saturday', 'Sunday'],\n",
    "                         name = '7 Days Record of Selling Pizzas at Khans Bakery')\n",
    "\n",
    "#we can access values by using operators, like\n",
    "print(canteen_three[canteen_three > 30])  #all values print that will be greater than 30\n",
    "#in square bracket, we tell pandas that we want to perform some operations"
   ]
  },
  {
   "cell_type": "markdown",
   "metadata": {},
   "source": [
    "# Series Object Part 7"
   ]
  },
  {
   "cell_type": "code",
   "execution_count": 24,
   "metadata": {},
   "outputs": [
    {
     "name": "stdout",
     "output_type": "stream",
     "text": [
      "Monday        200\n",
      "Tuesday       400\n",
      "Wednesday     600\n",
      "Thursday      800\n",
      "Friday       1000\n",
      "Saturday     1200\n",
      "Sunday       1400\n",
      "Name: 7 Days Record of Selling Pizzas at King Broast, dtype: int64\n",
      "\n",
      "\n",
      "Monday       100\n",
      "Tuesday      200\n",
      "Wednesday    300\n",
      "Thursday     400\n",
      "Friday       500\n",
      "Saturday     600\n",
      "Sunday       700\n",
      "Name: 7 Days Record of Selling Pizzas at King Broast, dtype: int64\n"
     ]
    }
   ],
   "source": [
    "canteen_four = pd.Series([100, 200, 300, 400, 500, 600, 700], \n",
    "                          index=['Monday', 'Tuesday', 'Wednesday', 'Thursday', 'Friday', 'Saturday', 'Sunday'],\n",
    "                         name = '7 Days Record of Selling Pizzas at King Broast')\n",
    "\n",
    "print(canteen_four * 2)   #you can multiply the whole series just like you multiply any single value\n",
    "#but this multiplication doesn't affect on the original value of canteen_four series\n",
    "print(\"\\n\")\n",
    "print(canteen_four)  #original value will remain same"
   ]
  },
  {
   "cell_type": "code",
   "execution_count": 25,
   "metadata": {},
   "outputs": [
    {
     "name": "stdout",
     "output_type": "stream",
     "text": [
      "Monday        200\n",
      "Tuesday       400\n",
      "Wednesday     600\n",
      "Thursday      800\n",
      "Friday       1000\n",
      "Saturday     1200\n",
      "Sunday       1400\n",
      "Name: 7 Days Record of Selling Pizzas at King Broast, dtype: int64\n"
     ]
    }
   ],
   "source": [
    "#you can append the values  on the series by performing operations\n",
    "canteen_four = canteen_four * 2\n",
    "print(canteen_four)"
   ]
  },
  {
   "cell_type": "code",
   "execution_count": 26,
   "metadata": {},
   "outputs": [
    {
     "name": "stdout",
     "output_type": "stream",
     "text": [
      "Monday       100.0\n",
      "Tuesday      200.0\n",
      "Wednesday    300.0\n",
      "Thursday     400.0\n",
      "Friday       500.0\n",
      "Saturday     600.0\n",
      "Sunday       700.0\n",
      "Name: 7 Days Record of Selling Pizzas at King Broast, dtype: float64\n"
     ]
    }
   ],
   "source": [
    "#you can also get your values back just by dividing the whole series with 2\n",
    "canteen_four = canteen_four / 2\n",
    "print(canteen_four)  #it's gives the answer in float because of division operation"
   ]
  },
  {
   "cell_type": "markdown",
   "metadata": {},
   "source": [
    "# Series Object Part 8"
   ]
  },
  {
   "cell_type": "code",
   "execution_count": 30,
   "metadata": {},
   "outputs": [
    {
     "name": "stdout",
     "output_type": "stream",
     "text": [
      "Monday       120.0\n",
      "Tuesday      220.0\n",
      "Wednesday    320.0\n",
      "Thursday     420.0\n",
      "Friday       520.0\n",
      "Saturday     620.0\n",
      "Sunday       720.0\n",
      "Name: 7 Days Record of Selling Pizzas at King Broast, dtype: float64\n",
      "\n",
      "\n",
      "After adding 10 three times: \n",
      "Monday       130.0\n",
      "Tuesday      230.0\n",
      "Wednesday    330.0\n",
      "Thursday     430.0\n",
      "Friday       530.0\n",
      "Saturday     630.0\n",
      "Sunday       730.0\n",
      "Name: 7 Days Record of Selling Pizzas at King Broast, dtype: float64\n"
     ]
    }
   ],
   "source": [
    "#we do:\n",
    "# 1) creating any series\n",
    "# 2) Indexing any Seires(we can use any sort of labels in series(non-integer values))\n",
    "# 3) we can also learn that we can internal name of our series \n",
    "# 4) we can apply mathematical operations on our series (do more now)\n",
    "print(canteen_four)\n",
    "canteen_four = canteen_four + 10\n",
    "print(\"\\n\")\n",
    "print(\"After adding 10 three times: \\n{}\".format(canteen_four))  #because i run this line 3 times"
   ]
  },
  {
   "cell_type": "code",
   "execution_count": 31,
   "metadata": {},
   "outputs": [
    {
     "name": "stdout",
     "output_type": "stream",
     "text": [
      "After Substracting 30:\n",
      "Monday       100.0\n",
      "Tuesday      200.0\n",
      "Wednesday    300.0\n",
      "Thursday     400.0\n",
      "Friday       500.0\n",
      "Saturday     600.0\n",
      "Sunday       700.0\n",
      "Name: 7 Days Record of Selling Pizzas at King Broast, dtype: float64\n"
     ]
    }
   ],
   "source": [
    "canteen_four = canteen_four - 30\n",
    "print(\"After Substracting 30:\\n{}\".format(canteen_four))"
   ]
  },
  {
   "cell_type": "markdown",
   "metadata": {},
   "source": [
    "# Series Object Part 9 & 10"
   ]
  },
  {
   "cell_type": "code",
   "execution_count": 32,
   "metadata": {},
   "outputs": [
    {
     "data": {
      "text/plain": [
       "True"
      ]
     },
     "execution_count": 32,
     "metadata": {},
     "output_type": "execute_result"
    }
   ],
   "source": [
    "#if you wanna check that if there is any index exist of not than,\n",
    "'Saturday' in canteen_four  #return boolean answer"
   ]
  },
  {
   "cell_type": "code",
   "execution_count": 35,
   "metadata": {},
   "outputs": [],
   "source": [
    "#by using numpy library, we creating array of numpy\n",
    "values_of_numpy = np.array([1,3,5,7,9])\n",
    "index_of_numpy = np.array(['a', 'b', 'c', 'd', 'e'])"
   ]
  },
  {
   "cell_type": "code",
   "execution_count": 39,
   "metadata": {},
   "outputs": [
    {
     "name": "stdout",
     "output_type": "stream",
     "text": [
      "Generating Pandas Series by Numpy's Array:\n",
      "a    1\n",
      "b    3\n",
      "c    5\n",
      "d    7\n",
      "e    9\n",
      "dtype: int32\n"
     ]
    }
   ],
   "source": [
    "#you can create series of pandas by numpy array by,\n",
    "#pd.series(array of numpy, index = another array of numpy)\n",
    "series_by_numpy = pd.Series(values_of_numpy, index = index_of_numpy)\n",
    "print(\"Generating Pandas Series by Numpy's Array:\")\n",
    "print(series_by_numpy)"
   ]
  },
  {
   "cell_type": "markdown",
   "metadata": {},
   "source": [
    "# Series Object Part 11"
   ]
  },
  {
   "cell_type": "code",
   "execution_count": 41,
   "metadata": {},
   "outputs": [
    {
     "name": "stdout",
     "output_type": "stream",
     "text": [
      "Sindh          35000\n",
      "Punjab          4000\n",
      "Balochistan     3500\n",
      "KPK             3000\n",
      "dtype: int64\n"
     ]
    }
   ],
   "source": [
    "#we can also take data from dictionay and save it into our pandas series\n",
    "state_data = {\n",
    "    'Sindh' : 35000,\n",
    "    'Punjab' : 4000,\n",
    "    'Balochistan' : 3500,\n",
    "    'KPK' : 3000\n",
    "}\n",
    "\n",
    "# we can convert python dictionary into pandas series, by\n",
    "tax_by_state = pd.Series(state_data)\n",
    "print(tax_by_state)"
   ]
  },
  {
   "cell_type": "code",
   "execution_count": 42,
   "metadata": {},
   "outputs": [
    {
     "name": "stdout",
     "output_type": "stream",
     "text": [
      "Index(['Sindh', 'Punjab', 'Balochistan', 'KPK'], dtype='object')\n",
      "[35000  4000  3500  3000]\n"
     ]
    }
   ],
   "source": [
    "# you can also access the index and values of series of pandas by same\n",
    "print(tax_by_state.index)\n",
    "print(tax_by_state.values)"
   ]
  },
  {
   "cell_type": "markdown",
   "metadata": {},
   "source": [
    "# Series Object Part 12"
   ]
  },
  {
   "cell_type": "code",
   "execution_count": 46,
   "metadata": {},
   "outputs": [],
   "source": [
    "#Source for series data\n",
    "# 1) direct data in the series method\n",
    "# 2) from numpy array or default list\n",
    "# 3) from dictionary"
   ]
  },
  {
   "cell_type": "code",
   "execution_count": 45,
   "metadata": {},
   "outputs": [
    {
     "name": "stdout",
     "output_type": "stream",
     "text": [
      "Sindh          35000000\n",
      "Punjab          4000000\n",
      "Balochistan     3500000\n",
      "KPK             3000000\n",
      "dtype: int64\n",
      "\n",
      "\n",
      "After changing the index, values are:\n",
      "Punjab          4000000\n",
      "Sindh          35000000\n",
      "Balochistan     3500000\n",
      "KPK             3000000\n",
      "dtype: int64\n"
     ]
    }
   ],
   "source": [
    "#you can also reassign the index but it can't change the value on index\n",
    "income_by_state = {\n",
    "    'Sindh' : 35000000,\n",
    "    'Punjab' : 4000000,\n",
    "    'Balochistan' : 3500000,\n",
    "    'KPK' : 3000000\n",
    "}\n",
    "\n",
    "income_state_in_series = pd.Series(income_by_state)\n",
    "print(income_state_in_series)\n",
    "#but if you wanna change the index position than,\n",
    "income_state_in_series = pd.Series(income_by_state, index = ['Punjab', 'Sindh', 'Balochistan', 'KPK'])\n",
    "print(\"\\n\")  # 'Sindh' index have the same value weather the index is change, values will be reshuffle\n",
    "print(\"After changing the index, values are:\")\n",
    "print(income_state_in_series)\n",
    "#if any series hasn't values belonging to my order than, i'll change the order and value will automatically shuffle"
   ]
  },
  {
   "cell_type": "markdown",
   "metadata": {},
   "source": [
    "# Series Object Part 13 & 14"
   ]
  },
  {
   "cell_type": "code",
   "execution_count": 50,
   "metadata": {},
   "outputs": [
    {
     "name": "stdout",
     "output_type": "stream",
     "text": [
      "Lahore       4000000.0\n",
      "Karachi     35000000.0\n",
      "Quetta       3500000.0\n",
      "Peshawar     3000000.0\n",
      "Multan             NaN\n",
      "dtype: float64\n",
      "\n",
      "\n",
      "Checking Null values by Method pd.isnull():\n",
      "Lahore      False\n",
      "Karachi     False\n",
      "Quetta      False\n",
      "Peshawar    False\n",
      "Multan       True\n",
      "dtype: bool\n",
      "Checking Null values by Function isnull():\n",
      "Lahore      False\n",
      "Karachi     False\n",
      "Quetta      False\n",
      "Peshawar    False\n",
      "Multan       True\n",
      "dtype: bool\n"
     ]
    }
   ],
   "source": [
    "#if there is any null value in our series, we can identify/check it by\n",
    "income_by_cities = {\n",
    "    'Karachi' : 35000000,\n",
    "    'Lahore' : 4000000,\n",
    "    'Quetta' : 3500000,\n",
    "    'Peshawar' : 3000000\n",
    "}\n",
    "#returns, NaN value means no value against any index, NaN are those values which don't exist\n",
    "#NaN is neither zero nor empty value, NaN means the value is missing or we forgot to gives series that value\n",
    "income_cities_in_series = pd.Series(income_by_cities, index = ['Lahore', 'Karachi', 'Quetta', 'Peshawar', 'Multan'])\n",
    "print(income_cities_in_series)\n",
    "print(\"\\n\")\n",
    "#pd.isnull() is the method while series_name.isnull() is function\n",
    "print(\"Checking Null values by Method pd.isnull():\\n{}\".format(pd.isnull(income_cities_in_series)))  #return series of boolean\n",
    "print(\"Checking Null values by Function isnull():\\n{}\".format(income_cities_in_series.isnull()))"
   ]
  },
  {
   "cell_type": "code",
   "execution_count": 53,
   "metadata": {},
   "outputs": [
    {
     "name": "stdout",
     "output_type": "stream",
     "text": [
      "Rawalpindi    400000.0\n",
      "Sukkhar       350000.0\n",
      "Sialkot       350000.0\n",
      "Islamabad     300000.0\n",
      "Daadu              NaN\n",
      "dtype: float64\n",
      "\n",
      "Name of the Cities\n",
      "Rawalpindi    400000.0\n",
      "Sukkhar       350000.0\n",
      "Sialkot       350000.0\n",
      "Islamabad     300000.0\n",
      "Daadu              NaN\n",
      "Name: Income of some of the cities of Pakistan, dtype: float64\n",
      "\n",
      "Index(['Rawalpindi', 'Sukkhar', 'Sialkot', 'Islamabad', 'Daadu'], dtype='object', name='Name of the Cities')\n"
     ]
    }
   ],
   "source": [
    "income_by_cities_two = {\n",
    "    'Sukkhar' : 350000,\n",
    "    'Rawalpindi' : 400000,\n",
    "    'Sialkot' : 350000,\n",
    "    'Islamabad' : 300000\n",
    "}\n",
    "\n",
    "income_cities_in_series_two = pd.Series(income_by_cities_two, \n",
    "                                        index = ['Rawalpindi', 'Sukkhar', 'Sialkot', 'Islamabad', 'Daadu'])\n",
    "print(income_cities_in_series_two)\n",
    "income_cities_in_series_two.name = \"Income of some of the cities of Pakistan\"\n",
    "income_cities_in_series_two.index.name = \"Name of the Cities\"\n",
    "\n",
    "print(\"\\n{}\".format(income_cities_in_series_two))\n",
    "print(\"\\n{}\".format(income_cities_in_series_two.index))\n",
    "#series is the building block, part or a section of the data frame, multiple series combine to form data frame"
   ]
  },
  {
   "cell_type": "code",
   "execution_count": null,
   "metadata": {},
   "outputs": [],
   "source": []
  }
 ],
 "metadata": {
  "kernelspec": {
   "display_name": "Python 3",
   "language": "python",
   "name": "python3"
  },
  "language_info": {
   "codemirror_mode": {
    "name": "ipython",
    "version": 3
   },
   "file_extension": ".py",
   "mimetype": "text/x-python",
   "name": "python",
   "nbconvert_exporter": "python",
   "pygments_lexer": "ipython3",
   "version": "3.7.3"
  }
 },
 "nbformat": 4,
 "nbformat_minor": 2
}
