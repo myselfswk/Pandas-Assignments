{
 "cells": [
  {
   "cell_type": "code",
   "execution_count": 2,
   "metadata": {},
   "outputs": [],
   "source": [
    "import numpy as np\n",
    "import pandas as pd"
   ]
  },
  {
   "cell_type": "markdown",
   "metadata": {},
   "source": [
    "# Selection with Loc and iloc Part 1"
   ]
  },
  {
   "cell_type": "code",
   "execution_count": 3,
   "metadata": {},
   "outputs": [
    {
     "data": {
      "text/html": [
       "<div>\n",
       "<style scoped>\n",
       "    .dataframe tbody tr th:only-of-type {\n",
       "        vertical-align: middle;\n",
       "    }\n",
       "\n",
       "    .dataframe tbody tr th {\n",
       "        vertical-align: top;\n",
       "    }\n",
       "\n",
       "    .dataframe thead th {\n",
       "        text-align: right;\n",
       "    }\n",
       "</style>\n",
       "<table border=\"1\" class=\"dataframe\">\n",
       "  <thead>\n",
       "    <tr style=\"text-align: right;\">\n",
       "      <th></th>\n",
       "      <th>Karachi</th>\n",
       "      <th>Lahore</th>\n",
       "      <th>Peshawar</th>\n",
       "      <th>Islamabad</th>\n",
       "    </tr>\n",
       "  </thead>\n",
       "  <tbody>\n",
       "    <tr>\n",
       "      <th>one</th>\n",
       "      <td>0</td>\n",
       "      <td>1</td>\n",
       "      <td>2</td>\n",
       "      <td>3</td>\n",
       "    </tr>\n",
       "    <tr>\n",
       "      <th>two</th>\n",
       "      <td>4</td>\n",
       "      <td>5</td>\n",
       "      <td>6</td>\n",
       "      <td>7</td>\n",
       "    </tr>\n",
       "    <tr>\n",
       "      <th>three</th>\n",
       "      <td>8</td>\n",
       "      <td>9</td>\n",
       "      <td>10</td>\n",
       "      <td>11</td>\n",
       "    </tr>\n",
       "    <tr>\n",
       "      <th>four</th>\n",
       "      <td>12</td>\n",
       "      <td>13</td>\n",
       "      <td>14</td>\n",
       "      <td>15</td>\n",
       "    </tr>\n",
       "  </tbody>\n",
       "</table>\n",
       "</div>"
      ],
      "text/plain": [
       "       Karachi  Lahore  Peshawar  Islamabad\n",
       "one          0       1         2          3\n",
       "two          4       5         6          7\n",
       "three        8       9        10         11\n",
       "four        12      13        14         15"
      ]
     },
     "execution_count": 3,
     "metadata": {},
     "output_type": "execute_result"
    }
   ],
   "source": [
    "cities = pd.DataFrame(np.arange(16).reshape(4, 4),\n",
    "                     index = ['one', 'two', 'three', 'four'],\n",
    "                     columns = ['Karachi', 'Lahore', 'Peshawar', 'Islamabad'])\n",
    "\n",
    "cities"
   ]
  },
  {
   "cell_type": "code",
   "execution_count": 11,
   "metadata": {},
   "outputs": [
    {
     "name": "stdout",
     "output_type": "stream",
     "text": [
      "one       0\n",
      "two       4\n",
      "three     8\n",
      "four     12\n",
      "Name: Karachi, dtype: int32\n",
      "--------------\n",
      "two       4\n",
      "three     8\n",
      "four     12\n",
      "Name: Karachi, dtype: int32\n"
     ]
    }
   ],
   "source": [
    "#Dictionary Style\n",
    "print(cities['Karachi'])  #dictionary like style of accessing data\n",
    "print(\"--------------\")\n",
    "print(cities['Karachi'][1:])"
   ]
  },
  {
   "cell_type": "code",
   "execution_count": 10,
   "metadata": {},
   "outputs": [
    {
     "name": "stdout",
     "output_type": "stream",
     "text": [
      "one       0\n",
      "two       4\n",
      "three     8\n",
      "four     12\n",
      "Name: Karachi, dtype: int32\n",
      "-------------------\n",
      "two       4\n",
      "three     8\n",
      "four     12\n",
      "Name: Karachi, dtype: int32\n"
     ]
    }
   ],
   "source": [
    "#Attribute Style\n",
    "#we also have a attribute style in dataframe which is use by column name\n",
    "print(cities.Karachi)\n",
    "print(\"-------------------\")\n",
    "#if you want some specific rows data than,\n",
    "print(cities.Karachi[1:])"
   ]
  },
  {
   "cell_type": "code",
   "execution_count": 17,
   "metadata": {},
   "outputs": [
    {
     "name": "stdout",
     "output_type": "stream",
     "text": [
      "       Karachi  Lahore  Peshawar  Islamabad\n",
      "three        8       9        10         11\n",
      "four        12      13        14         15\n",
      "-------------------\n",
      "three     8\n",
      "four     12\n",
      "Name: Karachi, dtype: int32\n"
     ]
    }
   ],
   "source": [
    "#conditional Filtering\n",
    "#by dictionary style\n",
    "print(cities[cities['Karachi']>5])   #apply condition on all columns\n",
    "print('-------------------')\n",
    "#by attribute style\n",
    "print(cities.Karachi[cities['Karachi']>5])"
   ]
  },
  {
   "cell_type": "code",
   "execution_count": 22,
   "metadata": {},
   "outputs": [
    {
     "name": "stdout",
     "output_type": "stream",
     "text": [
      "one      False\n",
      "two      False\n",
      "three     True\n",
      "four      True\n",
      "Name: Karachi, dtype: bool\n",
      "------------------------\n",
      "       Karachi  Lahore  Peshawar  Islamabad\n",
      "three        8       9        10         11\n",
      "four        12      13        14         15\n"
     ]
    }
   ],
   "source": [
    "#creating boolean dataframe\n",
    "bool_df = cities['Karachi']>5\n",
    "print(bool_df)\n",
    "print(\"------------------------\")\n",
    "print(cities[bool_df])"
   ]
  },
  {
   "cell_type": "markdown",
   "metadata": {},
   "source": [
    "# Selection with Loc and iloc Part 2"
   ]
  },
  {
   "cell_type": "code",
   "execution_count": 25,
   "metadata": {},
   "outputs": [
    {
     "data": {
      "text/html": [
       "<div>\n",
       "<style scoped>\n",
       "    .dataframe tbody tr th:only-of-type {\n",
       "        vertical-align: middle;\n",
       "    }\n",
       "\n",
       "    .dataframe tbody tr th {\n",
       "        vertical-align: top;\n",
       "    }\n",
       "\n",
       "    .dataframe thead th {\n",
       "        text-align: right;\n",
       "    }\n",
       "</style>\n",
       "<table border=\"1\" class=\"dataframe\">\n",
       "  <thead>\n",
       "    <tr style=\"text-align: right;\">\n",
       "      <th></th>\n",
       "      <th>Karachi</th>\n",
       "      <th>Lahore</th>\n",
       "      <th>Peshawar</th>\n",
       "      <th>Islamabad</th>\n",
       "    </tr>\n",
       "  </thead>\n",
       "  <tbody>\n",
       "    <tr>\n",
       "      <th>one</th>\n",
       "      <td>0</td>\n",
       "      <td>1</td>\n",
       "      <td>2</td>\n",
       "      <td>3</td>\n",
       "    </tr>\n",
       "    <tr>\n",
       "      <th>two</th>\n",
       "      <td>4</td>\n",
       "      <td>5</td>\n",
       "      <td>6</td>\n",
       "      <td>7</td>\n",
       "    </tr>\n",
       "    <tr>\n",
       "      <th>three</th>\n",
       "      <td>8</td>\n",
       "      <td>9</td>\n",
       "      <td>10</td>\n",
       "      <td>11</td>\n",
       "    </tr>\n",
       "    <tr>\n",
       "      <th>four</th>\n",
       "      <td>12</td>\n",
       "      <td>13</td>\n",
       "      <td>14</td>\n",
       "      <td>15</td>\n",
       "    </tr>\n",
       "  </tbody>\n",
       "</table>\n",
       "</div>"
      ],
      "text/plain": [
       "       Karachi  Lahore  Peshawar  Islamabad\n",
       "one          0       1         2          3\n",
       "two          4       5         6          7\n",
       "three        8       9        10         11\n",
       "four        12      13        14         15"
      ]
     },
     "execution_count": 25,
     "metadata": {},
     "output_type": "execute_result"
    }
   ],
   "source": [
    "#in the loc method, specify rows label than specify columns name\n",
    "#remember! multiple column names requires array notations\n",
    "cities_one = pd.DataFrame(np.arange(16).reshape(4, 4),\n",
    "                     index = ['one', 'two', 'three', 'four'],\n",
    "                     columns = ['Karachi', 'Lahore', 'Peshawar', 'Islamabad'])\n",
    "\n",
    "cities_one"
   ]
  },
  {
   "cell_type": "code",
   "execution_count": 37,
   "metadata": {},
   "outputs": [
    {
     "name": "stdout",
     "output_type": "stream",
     "text": [
      "Karachi    0\n",
      "Lahore     1\n",
      "Name: one, dtype: int32\n",
      "----------------------------\n",
      "      Karachi  Lahore\n",
      "one         0       1\n",
      "four       12      13\n",
      "----------------------------\n",
      "Karachi    8\n",
      "Lahore     9\n",
      "Name: three, dtype: int32\n",
      "-----------------------------\n",
      "       Karachi  Lahore  Peshawar  Islamabad\n",
      "one          0       1         2          3\n",
      "two          4       5         6          7\n",
      "three        8       9        10         11\n",
      "four        12      13        14         15\n"
     ]
    }
   ],
   "source": [
    "#arrangement can be change according to data\n",
    "print(cities_one.loc['one', ['Karachi', 'Lahore']])\n",
    "#if you wanna gives two rows than, use python list to gives multiple rows and columns\n",
    "print(\"----------------------------\")\n",
    "print(cities_one.loc[['one', 'four'], ['Karachi', 'Lahore']])\n",
    "#we can also selecting values by numbers, this is basically fancy indexing\n",
    "print(\"----------------------------\")\n",
    "print(cities_one.iloc[2, [0,1]])\n",
    "#to print all the value of dataframe, we use\n",
    "print(\"-----------------------------\")\n",
    "print(cities_one.iloc[:])"
   ]
  },
  {
   "cell_type": "code",
   "execution_count": 39,
   "metadata": {},
   "outputs": [
    {
     "name": "stdout",
     "output_type": "stream",
     "text": [
      "------------------------------\n",
      "       Karachi  Lahore\n",
      "one          0       1\n",
      "two          4       5\n",
      "three        8       9\n",
      "four        12      13\n",
      "------------------------------\n",
      "       Lahore  Peshawar\n",
      "one         1         2\n",
      "two         5         6\n",
      "three       9        10\n",
      "four       13        14\n",
      "------------------------------\n",
      "     Karachi  Lahore  Peshawar  Islamabad\n",
      "one        0       1         2          3\n",
      "two        4       5         6          7\n"
     ]
    }
   ],
   "source": [
    "#on fancy indexing\n",
    "#iloc[starting value : ending value(for rows), starting value : ending value(for column)]\n",
    "print(\"------------------------------\")\n",
    "print(cities_one.iloc[ : , :2])  #all rows and two columns(from start)\n",
    "print(\"------------------------------\")\n",
    "print(cities_one.iloc[ : , 1:3])  #all rows but columns two and three\n",
    "#if you gives only single statement than, its work for row only\n",
    "print(\"------------------------------\")\n",
    "print(cities_one.iloc[:2])"
   ]
  },
  {
   "cell_type": "code",
   "execution_count": null,
   "metadata": {},
   "outputs": [],
   "source": []
  }
 ],
 "metadata": {
  "kernelspec": {
   "display_name": "Python 3",
   "language": "python",
   "name": "python3"
  },
  "language_info": {
   "codemirror_mode": {
    "name": "ipython",
    "version": 3
   },
   "file_extension": ".py",
   "mimetype": "text/x-python",
   "name": "python",
   "nbconvert_exporter": "python",
   "pygments_lexer": "ipython3",
   "version": "3.7.1"
  }
 },
 "nbformat": 4,
 "nbformat_minor": 2
}
