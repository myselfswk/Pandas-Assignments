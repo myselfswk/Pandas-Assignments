{
 "cells": [
  {
   "cell_type": "code",
   "execution_count": 108,
   "metadata": {},
   "outputs": [],
   "source": [
    "import numpy as np\n",
    "import pandas as pd"
   ]
  },
  {
   "cell_type": "markdown",
   "metadata": {},
   "source": [
    "# Part no 1"
   ]
  },
  {
   "cell_type": "code",
   "execution_count": 3,
   "metadata": {},
   "outputs": [
    {
     "data": {
      "text/html": [
       "<div>\n",
       "<style scoped>\n",
       "    .dataframe tbody tr th:only-of-type {\n",
       "        vertical-align: middle;\n",
       "    }\n",
       "\n",
       "    .dataframe tbody tr th {\n",
       "        vertical-align: top;\n",
       "    }\n",
       "\n",
       "    .dataframe thead th {\n",
       "        text-align: right;\n",
       "    }\n",
       "</style>\n",
       "<table border=\"1\" class=\"dataframe\">\n",
       "  <thead>\n",
       "    <tr style=\"text-align: right;\">\n",
       "      <th></th>\n",
       "      <th>A</th>\n",
       "      <th>B</th>\n",
       "      <th>C</th>\n",
       "    </tr>\n",
       "  </thead>\n",
       "  <tbody>\n",
       "    <tr>\n",
       "      <th>Karachi</th>\n",
       "      <td>0.277518</td>\n",
       "      <td>1.416451</td>\n",
       "      <td>0.654912</td>\n",
       "    </tr>\n",
       "    <tr>\n",
       "      <th>Lahore</th>\n",
       "      <td>-0.097352</td>\n",
       "      <td>0.236402</td>\n",
       "      <td>-0.007868</td>\n",
       "    </tr>\n",
       "    <tr>\n",
       "      <th>Peshawar</th>\n",
       "      <td>0.535842</td>\n",
       "      <td>0.473335</td>\n",
       "      <td>0.114958</td>\n",
       "    </tr>\n",
       "    <tr>\n",
       "      <th>Islamabad</th>\n",
       "      <td>0.053807</td>\n",
       "      <td>1.352232</td>\n",
       "      <td>-0.085947</td>\n",
       "    </tr>\n",
       "  </tbody>\n",
       "</table>\n",
       "</div>"
      ],
      "text/plain": [
       "                  A         B         C\n",
       "Karachi    0.277518  1.416451  0.654912\n",
       "Lahore    -0.097352  0.236402 -0.007868\n",
       "Peshawar   0.535842  0.473335  0.114958\n",
       "Islamabad  0.053807  1.352232 -0.085947"
      ]
     },
     "execution_count": 3,
     "metadata": {},
     "output_type": "execute_result"
    }
   ],
   "source": [
    "#lambda means creating a function in one line without gives function any name\n",
    "frame_data = pd.DataFrame(np.random.randn(4, 3),\n",
    "                         columns = list('ABC'),\n",
    "                         index = ['Karachi', 'Lahore', 'Peshawar', 'Islamabad'])\n",
    "frame_data"
   ]
  },
  {
   "cell_type": "code",
   "execution_count": 4,
   "metadata": {},
   "outputs": [
    {
     "data": {
      "text/html": [
       "<div>\n",
       "<style scoped>\n",
       "    .dataframe tbody tr th:only-of-type {\n",
       "        vertical-align: middle;\n",
       "    }\n",
       "\n",
       "    .dataframe tbody tr th {\n",
       "        vertical-align: top;\n",
       "    }\n",
       "\n",
       "    .dataframe thead th {\n",
       "        text-align: right;\n",
       "    }\n",
       "</style>\n",
       "<table border=\"1\" class=\"dataframe\">\n",
       "  <thead>\n",
       "    <tr style=\"text-align: right;\">\n",
       "      <th></th>\n",
       "      <th>A</th>\n",
       "      <th>B</th>\n",
       "      <th>C</th>\n",
       "    </tr>\n",
       "  </thead>\n",
       "  <tbody>\n",
       "    <tr>\n",
       "      <th>Karachi</th>\n",
       "      <td>0.277518</td>\n",
       "      <td>1.416451</td>\n",
       "      <td>0.654912</td>\n",
       "    </tr>\n",
       "    <tr>\n",
       "      <th>Lahore</th>\n",
       "      <td>0.097352</td>\n",
       "      <td>0.236402</td>\n",
       "      <td>0.007868</td>\n",
       "    </tr>\n",
       "    <tr>\n",
       "      <th>Peshawar</th>\n",
       "      <td>0.535842</td>\n",
       "      <td>0.473335</td>\n",
       "      <td>0.114958</td>\n",
       "    </tr>\n",
       "    <tr>\n",
       "      <th>Islamabad</th>\n",
       "      <td>0.053807</td>\n",
       "      <td>1.352232</td>\n",
       "      <td>0.085947</td>\n",
       "    </tr>\n",
       "  </tbody>\n",
       "</table>\n",
       "</div>"
      ],
      "text/plain": [
       "                  A         B         C\n",
       "Karachi    0.277518  1.416451  0.654912\n",
       "Lahore     0.097352  0.236402  0.007868\n",
       "Peshawar   0.535842  0.473335  0.114958\n",
       "Islamabad  0.053807  1.352232  0.085947"
      ]
     },
     "execution_count": 4,
     "metadata": {},
     "output_type": "execute_result"
    }
   ],
   "source": [
    "np.abs(frame_data)  #make all values positive"
   ]
  },
  {
   "cell_type": "code",
   "execution_count": 15,
   "metadata": {},
   "outputs": [
    {
     "name": "stdout",
     "output_type": "stream",
     "text": [
      "Minimum Value of A:\n",
      "\t -0.09735152484663048\n",
      "Maximum Value of A:\n",
      "\t 0.5358418735093451\n",
      "Mean Value of A:\n",
      "\t 0.6331933983559755\n"
     ]
    }
   ],
   "source": [
    "print(\"Minimum Value of A:\")\n",
    "print(\"\\t\", frame_data['A'].min())   #show the value negative because the actual value is negative\n",
    "print(\"Maximum Value of A:\")\n",
    "print(\"\\t\", frame_data['A'].max())\n",
    "print(\"Mean Value of A:\")\n",
    "print(\"\\t\", frame_data['A'].max() - frame_data['A'].min())"
   ]
  },
  {
   "cell_type": "code",
   "execution_count": 26,
   "metadata": {},
   "outputs": [
    {
     "name": "stdout",
     "output_type": "stream",
     "text": [
      "A    0.633193\n",
      "B    1.180049\n",
      "C    0.740859\n",
      "dtype: float64 <class 'pandas.core.series.Series'>\n"
     ]
    }
   ],
   "source": [
    "# creating a new series using lambda\n",
    "mean = lambda w: w.max() - w.min() #generating new values by taking mean from the frame_data\n",
    "#this function apply on each column\n",
    "df = frame_data.apply(mean)\n",
    "print(df, type(df))"
   ]
  },
  {
   "cell_type": "code",
   "execution_count": 27,
   "metadata": {},
   "outputs": [
    {
     "name": "stdout",
     "output_type": "stream",
     "text": [
      "Karachi      1.138933\n",
      "Lahore       0.333754\n",
      "Peshawar     0.420884\n",
      "Islamabad    1.438179\n",
      "dtype: float64\n"
     ]
    }
   ],
   "source": [
    "df = frame_data.apply(mean, axis=1)\n",
    "#'1' means that the whole function apply on each row in your dataframe\n",
    "print(df)"
   ]
  },
  {
   "cell_type": "markdown",
   "metadata": {},
   "source": [
    "# Part no 2"
   ]
  },
  {
   "cell_type": "code",
   "execution_count": 52,
   "metadata": {},
   "outputs": [],
   "source": [
    "def max_min(x):\n",
    "    return pd.Series([x.max(), x.min()], index = [\"Max\", \"Mini\"])"
   ]
  },
  {
   "cell_type": "code",
   "execution_count": 53,
   "metadata": {},
   "outputs": [
    {
     "name": "stdout",
     "output_type": "stream",
     "text": [
      "             A         B         C\n",
      "Max   0.535842  1.416451  0.654912\n",
      "Mini -0.097352  0.236402 -0.085947\n"
     ]
    }
   ],
   "source": [
    "df_two = frame_data.apply(max_min)\n",
    "print(df_two)"
   ]
  },
  {
   "cell_type": "code",
   "execution_count": 82,
   "metadata": {},
   "outputs": [
    {
     "data": {
      "text/html": [
       "<div>\n",
       "<style scoped>\n",
       "    .dataframe tbody tr th:only-of-type {\n",
       "        vertical-align: middle;\n",
       "    }\n",
       "\n",
       "    .dataframe tbody tr th {\n",
       "        vertical-align: top;\n",
       "    }\n",
       "\n",
       "    .dataframe thead th {\n",
       "        text-align: right;\n",
       "    }\n",
       "</style>\n",
       "<table border=\"1\" class=\"dataframe\">\n",
       "  <thead>\n",
       "    <tr style=\"text-align: right;\">\n",
       "      <th></th>\n",
       "      <th>D</th>\n",
       "      <th>A</th>\n",
       "      <th>B</th>\n",
       "      <th>C</th>\n",
       "    </tr>\n",
       "  </thead>\n",
       "  <tbody>\n",
       "    <tr>\n",
       "      <th>Two</th>\n",
       "      <td>0</td>\n",
       "      <td>1</td>\n",
       "      <td>2</td>\n",
       "      <td>3</td>\n",
       "    </tr>\n",
       "    <tr>\n",
       "      <th>One</th>\n",
       "      <td>4</td>\n",
       "      <td>5</td>\n",
       "      <td>6</td>\n",
       "      <td>7</td>\n",
       "    </tr>\n",
       "  </tbody>\n",
       "</table>\n",
       "</div>"
      ],
      "text/plain": [
       "     D  A  B  C\n",
       "Two  0  1  2  3\n",
       "One  4  5  6  7"
      ]
     },
     "execution_count": 82,
     "metadata": {},
     "output_type": "execute_result"
    }
   ],
   "source": [
    "#sorting and ranking\n",
    "number_frame = pd.DataFrame(np.arange(8).reshape(2, 4),\n",
    "                        index = ['Two', 'One'],\n",
    "                        columns = ['D', 'A', 'B', 'C'])\n",
    "\n",
    "number_frame"
   ]
  },
  {
   "cell_type": "code",
   "execution_count": 83,
   "metadata": {},
   "outputs": [
    {
     "data": {
      "text/html": [
       "<div>\n",
       "<style scoped>\n",
       "    .dataframe tbody tr th:only-of-type {\n",
       "        vertical-align: middle;\n",
       "    }\n",
       "\n",
       "    .dataframe tbody tr th {\n",
       "        vertical-align: top;\n",
       "    }\n",
       "\n",
       "    .dataframe thead th {\n",
       "        text-align: right;\n",
       "    }\n",
       "</style>\n",
       "<table border=\"1\" class=\"dataframe\">\n",
       "  <thead>\n",
       "    <tr style=\"text-align: right;\">\n",
       "      <th></th>\n",
       "      <th>D</th>\n",
       "      <th>C</th>\n",
       "      <th>B</th>\n",
       "      <th>A</th>\n",
       "    </tr>\n",
       "  </thead>\n",
       "  <tbody>\n",
       "    <tr>\n",
       "      <th>Two</th>\n",
       "      <td>0</td>\n",
       "      <td>3</td>\n",
       "      <td>2</td>\n",
       "      <td>1</td>\n",
       "    </tr>\n",
       "    <tr>\n",
       "      <th>One</th>\n",
       "      <td>4</td>\n",
       "      <td>7</td>\n",
       "      <td>6</td>\n",
       "      <td>5</td>\n",
       "    </tr>\n",
       "  </tbody>\n",
       "</table>\n",
       "</div>"
      ],
      "text/plain": [
       "     D  C  B  A\n",
       "Two  0  3  2  1\n",
       "One  4  7  6  5"
      ]
     },
     "execution_count": 83,
     "metadata": {},
     "output_type": "execute_result"
    }
   ],
   "source": [
    "number_frame_descending = number_frame.sort_index(axis = 1, ascending=False)\n",
    "number_frame_descending"
   ]
  },
  {
   "cell_type": "code",
   "execution_count": 84,
   "metadata": {},
   "outputs": [
    {
     "data": {
      "text/html": [
       "<div>\n",
       "<style scoped>\n",
       "    .dataframe tbody tr th:only-of-type {\n",
       "        vertical-align: middle;\n",
       "    }\n",
       "\n",
       "    .dataframe tbody tr th {\n",
       "        vertical-align: top;\n",
       "    }\n",
       "\n",
       "    .dataframe thead th {\n",
       "        text-align: right;\n",
       "    }\n",
       "</style>\n",
       "<table border=\"1\" class=\"dataframe\">\n",
       "  <thead>\n",
       "    <tr style=\"text-align: right;\">\n",
       "      <th></th>\n",
       "      <th>D</th>\n",
       "      <th>A</th>\n",
       "      <th>B</th>\n",
       "      <th>C</th>\n",
       "    </tr>\n",
       "  </thead>\n",
       "  <tbody>\n",
       "    <tr>\n",
       "      <th>One</th>\n",
       "      <td>4</td>\n",
       "      <td>5</td>\n",
       "      <td>6</td>\n",
       "      <td>7</td>\n",
       "    </tr>\n",
       "    <tr>\n",
       "      <th>Two</th>\n",
       "      <td>0</td>\n",
       "      <td>1</td>\n",
       "      <td>2</td>\n",
       "      <td>3</td>\n",
       "    </tr>\n",
       "  </tbody>\n",
       "</table>\n",
       "</div>"
      ],
      "text/plain": [
       "     D  A  B  C\n",
       "One  4  5  6  7\n",
       "Two  0  1  2  3"
      ]
     },
     "execution_count": 84,
     "metadata": {},
     "output_type": "execute_result"
    }
   ],
   "source": [
    "number_frame_ascending = number_frame.sort_index()\n",
    "number_frame_ascending"
   ]
  },
  {
   "cell_type": "code",
   "execution_count": 91,
   "metadata": {},
   "outputs": [
    {
     "name": "stdout",
     "output_type": "stream",
     "text": [
      "     D  A  B  C\n",
      "Two  0  1  2  3\n",
      "One  4  5  6  7\n"
     ]
    }
   ],
   "source": [
    "#Sort by values\n",
    "print(number_frame.sort_values(by='B'))"
   ]
  },
  {
   "cell_type": "code",
   "execution_count": 92,
   "metadata": {},
   "outputs": [
    {
     "name": "stdout",
     "output_type": "stream",
     "text": [
      "       D    A    B    C\n",
      "Two  2.0  2.0  2.0  2.0\n",
      "One  1.0  1.0  1.0  1.0\n",
      "\n",
      "       D    A    B    C\n",
      "Two  1.0  1.0  1.0  1.0\n",
      "One  2.0  2.0  2.0  2.0\n",
      "\n",
      "       D    A    B    C\n",
      "Two  1.0  2.0  3.0  4.0\n",
      "One  1.0  2.0  3.0  4.0\n"
     ]
    }
   ],
   "source": [
    "#ranking the series\n",
    "print(number_frame.rank(ascending=False, method='max'))\n",
    "print()\n",
    "print(number_frame.rank(ascending=True, method='min'))\n",
    "print()\n",
    "print(number_frame.rank(axis='columns'))"
   ]
  },
  {
   "cell_type": "code",
   "execution_count": 98,
   "metadata": {},
   "outputs": [
    {
     "data": {
      "text/html": [
       "<div>\n",
       "<style scoped>\n",
       "    .dataframe tbody tr th:only-of-type {\n",
       "        vertical-align: middle;\n",
       "    }\n",
       "\n",
       "    .dataframe tbody tr th {\n",
       "        vertical-align: top;\n",
       "    }\n",
       "\n",
       "    .dataframe thead th {\n",
       "        text-align: right;\n",
       "    }\n",
       "</style>\n",
       "<table border=\"1\" class=\"dataframe\">\n",
       "  <thead>\n",
       "    <tr style=\"text-align: right;\">\n",
       "      <th></th>\n",
       "      <th>one</th>\n",
       "      <th>two</th>\n",
       "    </tr>\n",
       "  </thead>\n",
       "  <tbody>\n",
       "    <tr>\n",
       "      <th>A</th>\n",
       "      <td>3.0</td>\n",
       "      <td>NaN</td>\n",
       "    </tr>\n",
       "    <tr>\n",
       "      <th>B</th>\n",
       "      <td>NaN</td>\n",
       "      <td>7.0</td>\n",
       "    </tr>\n",
       "    <tr>\n",
       "      <th>C</th>\n",
       "      <td>6.0</td>\n",
       "      <td>NaN</td>\n",
       "    </tr>\n",
       "    <tr>\n",
       "      <th>D</th>\n",
       "      <td>4.5</td>\n",
       "      <td>6.7</td>\n",
       "    </tr>\n",
       "  </tbody>\n",
       "</table>\n",
       "</div>"
      ],
      "text/plain": [
       "   one  two\n",
       "A  3.0  NaN\n",
       "B  NaN  7.0\n",
       "C  6.0  NaN\n",
       "D  4.5  6.7"
      ]
     },
     "execution_count": 98,
     "metadata": {},
     "output_type": "execute_result"
    }
   ],
   "source": [
    "#Summurize and computing Descriptive statistics\n",
    "data = pd.DataFrame([\n",
    "    [3, np.nan], [np.nan, 7], [6, np.nan], [4.5, 6.7]\n",
    "        ],\n",
    "                    index = ['A', 'B', 'C', 'D'],\n",
    "                   columns = ['one', 'two']\n",
    "                   )\n",
    "\n",
    "data"
   ]
  },
  {
   "cell_type": "code",
   "execution_count": 102,
   "metadata": {},
   "outputs": [
    {
     "name": "stdout",
     "output_type": "stream",
     "text": [
      "one    13.5\n",
      "two    13.7\n",
      "dtype: float64\n"
     ]
    }
   ],
   "source": [
    "print(data.sum())  #sum of all columns "
   ]
  },
  {
   "cell_type": "code",
   "execution_count": 103,
   "metadata": {},
   "outputs": [
    {
     "name": "stdout",
     "output_type": "stream",
     "text": [
      "A     3.0\n",
      "B     7.0\n",
      "C     6.0\n",
      "D    11.2\n",
      "dtype: float64\n"
     ]
    }
   ],
   "source": [
    "print(data.sum(axis='columns'))   #sum every row in your dataframe"
   ]
  },
  {
   "cell_type": "code",
   "execution_count": 104,
   "metadata": {},
   "outputs": [
    {
     "name": "stdout",
     "output_type": "stream",
     "text": [
      "A    NaN\n",
      "B    NaN\n",
      "C    NaN\n",
      "D    5.6\n",
      "dtype: float64\n"
     ]
    }
   ],
   "source": [
    "#skipna=False means that NaN value is also involve/include in mean operation\n",
    "print(data.mean(axis='columns', skipna=False))"
   ]
  },
  {
   "cell_type": "code",
   "execution_count": 116,
   "metadata": {},
   "outputs": [
    {
     "data": {
      "text/html": [
       "<div>\n",
       "<style scoped>\n",
       "    .dataframe tbody tr th:only-of-type {\n",
       "        vertical-align: middle;\n",
       "    }\n",
       "\n",
       "    .dataframe tbody tr th {\n",
       "        vertical-align: top;\n",
       "    }\n",
       "\n",
       "    .dataframe thead th {\n",
       "        text-align: right;\n",
       "    }\n",
       "</style>\n",
       "<table border=\"1\" class=\"dataframe\">\n",
       "  <thead>\n",
       "    <tr style=\"text-align: right;\">\n",
       "      <th></th>\n",
       "      <th>one</th>\n",
       "      <th>two</th>\n",
       "      <th>three</th>\n",
       "      <th>four</th>\n",
       "    </tr>\n",
       "  </thead>\n",
       "  <tbody>\n",
       "    <tr>\n",
       "      <th>A</th>\n",
       "      <td>3.0</td>\n",
       "      <td>NaN</td>\n",
       "      <td>6.5</td>\n",
       "      <td>3.0</td>\n",
       "    </tr>\n",
       "    <tr>\n",
       "      <th>B</th>\n",
       "      <td>NaN</td>\n",
       "      <td>7.0</td>\n",
       "      <td>1.1</td>\n",
       "      <td>7.0</td>\n",
       "    </tr>\n",
       "    <tr>\n",
       "      <th>C</th>\n",
       "      <td>6.0</td>\n",
       "      <td>NaN</td>\n",
       "      <td>4.0</td>\n",
       "      <td>NaN</td>\n",
       "    </tr>\n",
       "    <tr>\n",
       "      <th>D</th>\n",
       "      <td>4.5</td>\n",
       "      <td>6.7</td>\n",
       "      <td>NaN</td>\n",
       "      <td>3.0</td>\n",
       "    </tr>\n",
       "  </tbody>\n",
       "</table>\n",
       "</div>"
      ],
      "text/plain": [
       "   one  two  three  four\n",
       "A  3.0  NaN    6.5   3.0\n",
       "B  NaN  7.0    1.1   7.0\n",
       "C  6.0  NaN    4.0   NaN\n",
       "D  4.5  6.7    NaN   3.0"
      ]
     },
     "execution_count": 116,
     "metadata": {},
     "output_type": "execute_result"
    }
   ],
   "source": [
    "#unique() don't show you repeated values in your dataframe\n",
    "\n",
    "data_two = pd.DataFrame([\n",
    "    [3, np.nan, 6.50, 3], [np.nan, 7, 1.1, 7], [6, np.nan, 4, np.nan], [4.5, 6.7, np.nan, 3]\n",
    "        ],\n",
    "                    index = ['A', 'B', 'C', 'D'],\n",
    "                   columns = ['one', 'two', 'three', 'four']\n",
    "                   )\n",
    "\n",
    "data_two"
   ]
  },
  {
   "cell_type": "code",
   "execution_count": 119,
   "metadata": {},
   "outputs": [
    {
     "name": "stdout",
     "output_type": "stream",
     "text": [
      "[3.  nan 6.  4.5]\n",
      "[nan 7.  6.7]\n",
      "Column One Data Show Below:\n",
      "4.5    1\n",
      "6.0    1\n",
      "3.0    1\n",
      "Name: one, dtype: int64\n",
      "Column Four Data Show Below:\n",
      "3.0    2\n",
      "7.0    1\n",
      "Name: four, dtype: int64\n"
     ]
    }
   ],
   "source": [
    "print(data_two['one'].unique())\n",
    "print(data_two['two'].unique())\n",
    "# .value_counts() count the total same value in any column\n",
    "print(\"Column One Data Show Below:\")\n",
    "print(data_two['one'].value_counts())\n",
    "print(\"Column Four Data Show Below:\")\n",
    "print(data_two['four'].value_counts())"
   ]
  },
  {
   "cell_type": "code",
   "execution_count": null,
   "metadata": {},
   "outputs": [],
   "source": []
  }
 ],
 "metadata": {
  "kernelspec": {
   "display_name": "Python 3",
   "language": "python",
   "name": "python3"
  },
  "language_info": {
   "codemirror_mode": {
    "name": "ipython",
    "version": 3
   },
   "file_extension": ".py",
   "mimetype": "text/x-python",
   "name": "python",
   "nbconvert_exporter": "python",
   "pygments_lexer": "ipython3",
   "version": "3.7.1"
  }
 },
 "nbformat": 4,
 "nbformat_minor": 2
}
